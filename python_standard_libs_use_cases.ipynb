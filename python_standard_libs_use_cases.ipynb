{
 "cells": [
  {
   "cell_type": "markdown",
   "id": "descending-barbados",
   "metadata": {},
   "source": [
    "# Python `built-in-funcs`"
   ]
  },
  {
   "cell_type": "markdown",
   "id": "northern-brunswick",
   "metadata": {},
   "source": [
    "[built-in-funcs](https://docs.python.org/3/library/functions.html#built-in-funcs)"
   ]
  },
  {
   "cell_type": "markdown",
   "id": "tight-institution",
   "metadata": {},
   "source": [
    "## `abs(x)`"
   ]
  },
  {
   "cell_type": "markdown",
   "id": "buried-wages",
   "metadata": {},
   "source": [
    "The typical use case for `abs` is checking whether a difference is smaller than a given bound."
   ]
  },
  {
   "cell_type": "code",
   "execution_count": 13,
   "id": "imported-frequency",
   "metadata": {},
   "outputs": [
    {
     "name": "stdout",
     "output_type": "stream",
     "text": [
      "1, 2, 3, 4, 5, 6, 7, 8, 9, "
     ]
    }
   ],
   "source": [
    "import itertools\n",
    "\n",
    "epsilon = 0.001\n",
    "\n",
    "for n in itertools.count(1):\n",
    "    if abs(0.1 - 1/n) < epsilon:\n",
    "        break\n",
    "    print(n, end=', ')"
   ]
  },
  {
   "cell_type": "markdown",
   "id": "royal-paris",
   "metadata": {},
   "source": [
    "## `all(iterable)`"
   ]
  },
  {
   "cell_type": "markdown",
   "id": "desirable-exposure",
   "metadata": {},
   "source": [
    "## `any(iterable)`"
   ]
  },
  {
   "cell_type": "markdown",
   "id": "faced-boulder",
   "metadata": {},
   "source": [
    "## `ascii(object)`"
   ]
  },
  {
   "cell_type": "code",
   "execution_count": null,
   "id": "seasonal-edition",
   "metadata": {},
   "outputs": [],
   "source": [
    "for letter in [\"ä\", \"ö\", \"ü\", \"ß\"]:\n",
    "    print(ascii(letter))"
   ]
  },
  {
   "cell_type": "markdown",
   "id": "upper-checklist",
   "metadata": {},
   "source": [
    "## `bin(x)`"
   ]
  },
  {
   "cell_type": "markdown",
   "id": "velvet-habitat",
   "metadata": {},
   "source": [
    "Should you ever be in need to transform and `int` to `binary`."
   ]
  },
  {
   "cell_type": "code",
   "execution_count": 24,
   "id": "medical-style",
   "metadata": {},
   "outputs": [
    {
     "data": {
      "text/plain": [
       "'0b11'"
      ]
     },
     "execution_count": 24,
     "metadata": {},
     "output_type": "execute_result"
    }
   ],
   "source": [
    "# Example from the docs\n",
    ">>> bin(3)\n",
    "'0b11'"
   ]
  },
  {
   "cell_type": "code",
   "execution_count": 27,
   "id": "comparative-cambridge",
   "metadata": {},
   "outputs": [
    {
     "data": {
      "text/plain": [
       "'-0b1010'"
      ]
     },
     "execution_count": 27,
     "metadata": {},
     "output_type": "execute_result"
    }
   ],
   "source": [
    ">>> bin(-10)\n",
    "'-0b1010'"
   ]
  },
  {
   "cell_type": "markdown",
   "id": "heated-october",
   "metadata": {},
   "source": [
    "## *class* `bool([x])`"
   ]
  },
  {
   "cell_type": "markdown",
   "id": "normal-principal",
   "metadata": {},
   "source": [
    "Boolean value for a custom type object. (*Source*: Fluent Python)"
   ]
  },
  {
   "cell_type": "code",
   "execution_count": 58,
   "id": "fourth-quality",
   "metadata": {},
   "outputs": [],
   "source": [
    "class Vector:\n",
    "    def __init__(self, x, y):\n",
    "        self.x = x\n",
    "        self.y = y\n",
    "\n",
    "    def __repr__(self):\n",
    "        return f\"{self.__class__.__name__}({self.x}, {self.y})\"\n",
    "        \n",
    "    def __bool__(self):\n",
    "        \"\"\"__bool__ must return `bool` otherwise a `TypeError` is raised.\"\"\"\n",
    "        return bool(self.x or self.y)"
   ]
  },
  {
   "cell_type": "code",
   "execution_count": 59,
   "id": "growing-rachel",
   "metadata": {},
   "outputs": [
    {
     "data": {
      "text/plain": [
       "True"
      ]
     },
     "execution_count": 59,
     "metadata": {},
     "output_type": "execute_result"
    }
   ],
   "source": [
    "v = Vector(1, 2)\n",
    "bool(v)"
   ]
  },
  {
   "cell_type": "markdown",
   "id": "abandoned-artist",
   "metadata": {},
   "source": [
    "## `breakpoint(*args, **kws)` (no idea...)"
   ]
  },
  {
   "cell_type": "markdown",
   "id": "coordinate-brook",
   "metadata": {},
   "source": [
    "## *class* `bytearray([source[, encoding[, errors]]])`"
   ]
  },
  {
   "cell_type": "markdown",
   "id": "genuine-notice",
   "metadata": {},
   "source": [
    "Strings are immutable. But you can use the `bytearray` to change a string in-place"
   ]
  },
  {
   "cell_type": "code",
   "execution_count": 88,
   "id": "useful-cancer",
   "metadata": {},
   "outputs": [
    {
     "data": {
      "text/plain": [
       "bytearray(b'spameggs')"
      ]
     },
     "execution_count": 88,
     "metadata": {},
     "output_type": "execute_result"
    }
   ],
   "source": [
    "B = bytearray(b\"spam\")\n",
    "B.extend(b\"eggs\")\n",
    "B"
   ]
  },
  {
   "cell_type": "markdown",
   "id": "arranged-article",
   "metadata": {},
   "source": [
    "The `bytearray` supports in-place changes for text, but only for text whose characters are all at most 8-bits wide (e.g., ASCII)."
   ]
  },
  {
   "cell_type": "markdown",
   "id": "reasonable-remains",
   "metadata": {},
   "source": [
    "## *class* `bytes([source[, encoding[, errors]]])`"
   ]
  },
  {
   "cell_type": "markdown",
   "id": "pressing-thomson",
   "metadata": {},
   "source": [
    "Convert a string to byte (which could later be used in `bytearray`."
   ]
  },
  {
   "cell_type": "code",
   "execution_count": 90,
   "id": "dense-hierarchy",
   "metadata": {},
   "outputs": [
    {
     "data": {
      "text/plain": [
       "bytearray(b'spameggs')"
      ]
     },
     "execution_count": 90,
     "metadata": {},
     "output_type": "execute_result"
    }
   ],
   "source": [
    "spam = \"spam\"\n",
    "B = bytearray(bytes(spam, \"utf-8\"))\n",
    "B.extend(bytes(\"eggs\", \"utf-8\"))\n",
    "B"
   ]
  },
  {
   "cell_type": "markdown",
   "id": "heated-blame",
   "metadata": {},
   "source": [
    "Alternatively you would transform the string to a list, manipulate it and rejoin it to a string."
   ]
  },
  {
   "cell_type": "code",
   "execution_count": null,
   "id": "dangerous-philadelphia",
   "metadata": {},
   "outputs": [],
   "source": [
    "B = list(\"spam\")\n",
    "B.extend(list(\"eggs\"))\n",
    "''.join(B)"
   ]
  },
  {
   "cell_type": "markdown",
   "id": "therapeutic-wrong",
   "metadata": {},
   "source": [
    "*Source*: Leaerning Powerful Python"
   ]
  },
  {
   "cell_type": "markdown",
   "id": "vocal-lambda",
   "metadata": {},
   "source": [
    "## callable(*object*)"
   ]
  },
  {
   "cell_type": "markdown",
   "id": "eight-curve",
   "metadata": {},
   "source": [
    "## chr(i)"
   ]
  },
  {
   "cell_type": "markdown",
   "id": "greater-locking",
   "metadata": {},
   "source": [
    "## `@classmethod`"
   ]
  },
  {
   "cell_type": "markdown",
   "id": "fluid-cross",
   "metadata": {},
   "source": [
    "## `compile(source, filename, mode, flags=0, dont_inherit=False, optimize=-1)`"
   ]
  },
  {
   "cell_type": "markdown",
   "id": "frequent-starter",
   "metadata": {},
   "source": [
    "## *class* `complex([real[, imag]])`"
   ]
  },
  {
   "cell_type": "markdown",
   "id": "velvet-distribution",
   "metadata": {},
   "source": [
    "Create a complex number from a `real` and `imag` parts."
   ]
  },
  {
   "cell_type": "code",
   "execution_count": 101,
   "id": "described-orleans",
   "metadata": {},
   "outputs": [
    {
     "name": "stdout",
     "output_type": "stream",
     "text": [
      "0j, (1+0j), (1-1j)\n"
     ]
    }
   ],
   "source": [
    "c1 = complex()  # equivalent to 0j or 0J\n",
    "c2 = complex(1)  # equivalent to 1 + 0j or 1 + 0J\n",
    "c3 = complex(1, -1)  # equivalent to 1 + -1j or 1 + -1J \n",
    "print(c1, c2, c3, sep=\", \")"
   ]
  },
  {
   "cell_type": "markdown",
   "id": "sexual-offering",
   "metadata": {},
   "source": [
    "## `delattr(object, name)`"
   ]
  },
  {
   "cell_type": "markdown",
   "id": "amended-click",
   "metadata": {},
   "source": [
    "Why would you do something like that :-)?"
   ]
  },
  {
   "cell_type": "markdown",
   "id": "weighted-swiss",
   "metadata": {},
   "source": [
    "## *class* `dict(**kwargs)`"
   ]
  },
  {
   "cell_type": "markdown",
   "id": "macro-struggle",
   "metadata": {},
   "source": [
    "Example from the docs. But what's a possible use case besides `dict(mapping, **kwarg)` and `dict(iterable, **kwarg)`?"
   ]
  },
  {
   "cell_type": "code",
   "execution_count": 107,
   "id": "blocked-quebec",
   "metadata": {},
   "outputs": [],
   "source": [
    "a = dict(one=1, two=2, three=3)"
   ]
  },
  {
   "cell_type": "markdown",
   "id": "least-tuner",
   "metadata": {},
   "source": [
    "## *class* `dict(mapping, **kwarg)`"
   ]
  },
  {
   "cell_type": "code",
   "execution_count": null,
   "id": "external-techno",
   "metadata": {},
   "outputs": [],
   "source": [
    "f = dict({'one': 1, 'three': 3}, two=2)"
   ]
  },
  {
   "cell_type": "markdown",
   "id": "announced-shepherd",
   "metadata": {},
   "source": [
    "## *class* `dict(iterable, **kwarg)`"
   ]
  },
  {
   "cell_type": "code",
   "execution_count": 108,
   "id": "approximate-encyclopedia",
   "metadata": {},
   "outputs": [],
   "source": [
    "d = dict([('two', 2), ('one', 1), ('three', 3)], four=4)"
   ]
  },
  {
   "cell_type": "markdown",
   "id": "falling-montreal",
   "metadata": {},
   "source": [
    "## `dir([object])`"
   ]
  },
  {
   "cell_type": "markdown",
   "id": "curious-arthritis",
   "metadata": {},
   "source": [
    "My favorite function when it comes to checking an objects attributes, especially in IDLE, IPython or Jupyter Notebooks."
   ]
  },
  {
   "cell_type": "code",
   "execution_count": 114,
   "id": "configured-brake",
   "metadata": {},
   "outputs": [
    {
     "data": {
      "text/plain": [
       "['__class__',\n",
       " '__contains__',\n",
       " '__delattr__',\n",
       " '__delitem__',\n",
       " '__dir__',\n",
       " '__doc__',\n",
       " '__eq__',\n",
       " '__format__',\n",
       " '__ge__',\n",
       " '__getattribute__',\n",
       " '__getitem__',\n",
       " '__gt__',\n",
       " '__hash__',\n",
       " '__init__',\n",
       " '__init_subclass__',\n",
       " '__iter__',\n",
       " '__le__',\n",
       " '__len__',\n",
       " '__lt__',\n",
       " '__ne__',\n",
       " '__new__',\n",
       " '__reduce__',\n",
       " '__reduce_ex__',\n",
       " '__repr__',\n",
       " '__reversed__',\n",
       " '__setattr__',\n",
       " '__setitem__',\n",
       " '__sizeof__',\n",
       " '__str__',\n",
       " '__subclasshook__',\n",
       " 'clear',\n",
       " 'copy',\n",
       " 'fromkeys',\n",
       " 'get',\n",
       " 'items',\n",
       " 'keys',\n",
       " 'pop',\n",
       " 'popitem',\n",
       " 'setdefault',\n",
       " 'update',\n",
       " 'values']"
      ]
     },
     "execution_count": 114,
     "metadata": {},
     "output_type": "execute_result"
    }
   ],
   "source": [
    "dir(dict())"
   ]
  },
  {
   "cell_type": "markdown",
   "id": "appreciated-second",
   "metadata": {},
   "source": [
    "## `divmod(a, b)`"
   ]
  },
  {
   "cell_type": "markdown",
   "id": "military-premiere",
   "metadata": {},
   "source": [
    "a % b is used more frequently. If you additionally need the quotient use divmod(a, b)."
   ]
  },
  {
   "cell_type": "code",
   "execution_count": 120,
   "id": "standing-genesis",
   "metadata": {},
   "outputs": [
    {
     "data": {
      "text/plain": [
       "(3, 1)"
      ]
     },
     "execution_count": 120,
     "metadata": {},
     "output_type": "execute_result"
    }
   ],
   "source": [
    "divmod(10, 3)"
   ]
  },
  {
   "cell_type": "markdown",
   "id": "dressed-fundamentals",
   "metadata": {},
   "source": [
    "## `enumerate(iterable, start=0)`"
   ]
  },
  {
   "cell_type": "markdown",
   "id": "presidential-antarctica",
   "metadata": {},
   "source": [
    "My favorite and don't forget its `start` parameter!"
   ]
  },
  {
   "cell_type": "code",
   "execution_count": 139,
   "id": "posted-garage",
   "metadata": {},
   "outputs": [],
   "source": [
    "# find the index of outliners in a list of floats\n",
    "import random\n",
    "\n",
    "fake_prices = [random.random() for _ in range(1000)]\n",
    "\n",
    "outliner_indices = []\n",
    "for idx, price in enumerate(fake_prices):\n",
    "    if price > 0.99:\n",
    "        outliner_indices.append(idx)\n",
    "\n",
    "# do further calculation"
   ]
  },
  {
   "cell_type": "markdown",
   "id": "moral-outside",
   "metadata": {},
   "source": [
    "## `eval(expression[, globals[, locals]])`"
   ]
  },
  {
   "cell_type": "markdown",
   "id": "dressed-market",
   "metadata": {},
   "source": [
    "used in IDLE?"
   ]
  },
  {
   "cell_type": "markdown",
   "id": "ordered-illness",
   "metadata": {},
   "source": [
    "## `exec(object[, globals[, locals]])`"
   ]
  },
  {
   "cell_type": "markdown",
   "id": "remarkable-combining",
   "metadata": {},
   "source": [
    "used in IDLE?"
   ]
  },
  {
   "cell_type": "markdown",
   "id": "found-meditation",
   "metadata": {},
   "source": [
    "## `filter(function, iterable)`"
   ]
  },
  {
   "cell_type": "markdown",
   "id": "maritime-procedure",
   "metadata": {},
   "source": [
    "Filter a numbers that are a multiple of 2. This example is motivated by the sieve of eratosthenes example from [The Python Wiki](https://wiki.python.org/moin/SimplePrograms)."
   ]
  },
  {
   "cell_type": "code",
   "execution_count": 142,
   "id": "weighted-bullet",
   "metadata": {},
   "outputs": [
    {
     "data": {
      "text/plain": [
       "[1, 3, 5, 7, 9, 11]"
      ]
     },
     "execution_count": 142,
     "metadata": {},
     "output_type": "execute_result"
    }
   ],
   "source": [
    "prime = 2\n",
    "list(filter(prime.__rmod__, range(12)))"
   ]
  },
  {
   "cell_type": "markdown",
   "id": "fifth-adaptation",
   "metadata": {
    "deletable": false,
    "editable": false,
    "run_control": {
     "frozen": true
    }
   },
   "source": [
    "## *class* `float([x])`"
   ]
  },
  {
   "cell_type": "markdown",
   "id": "organic-instrumentation",
   "metadata": {
    "deletable": false,
    "editable": false,
    "run_control": {
     "frozen": true
    }
   },
   "source": [
    "Cast numbers that is read from a file to float for further use. "
   ]
  },
  {
   "cell_type": "code",
   "execution_count": null,
   "id": "beautiful-detail",
   "metadata": {},
   "outputs": [],
   "source": [
    "coordinates_from_file = []\n",
    "for coordinates in open(\"...file here...\"):\n",
    "    coordinates_from_file.append(float(coordinates))\n",
    "\n",
    "# or if you prefer list comp\n",
    "coordinates_from_file = [float(coordinates) for coordinates in open(\"...file here...\")]"
   ]
  },
  {
   "cell_type": "markdown",
   "id": "comfortable-samba",
   "metadata": {
    "deletable": false,
    "editable": false,
    "run_control": {
     "frozen": true
    }
   },
   "source": [
    "## `format(value[, format_spec])`"
   ]
  },
  {
   "cell_type": "markdown",
   "id": "drawn-brake",
   "metadata": {
    "deletable": false,
    "editable": false,
    "run_control": {
     "frozen": true
    }
   },
   "source": [
    "I never used this function in this form. I prefer the `.format()` syntax. According to [PEP-3101](https://www.python.org/dev/peps/pep-3101/#controlling-formatting-on-a-per-type-basis) it is used in class `object`."
   ]
  },
  {
   "cell_type": "markdown",
   "id": "gorgeous-selling",
   "metadata": {
    "deletable": false,
    "editable": false,
    "run_control": {
     "frozen": true
    }
   },
   "source": [
    "## *class* `frozenset([iterable])`"
   ]
  },
  {
   "cell_type": "markdown",
   "id": "urban-tension",
   "metadata": {},
   "source": [
    "Elements of sets must hashable. To create a set of sets its elements must be frozensets, see [here](https://docs.python.org/3/library/stdtypes.html#frozenset)."
   ]
  },
  {
   "cell_type": "code",
   "execution_count": null,
   "id": "pleasant-handbook",
   "metadata": {},
   "outputs": [],
   "source": []
  }
 ],
 "metadata": {
  "kernelspec": {
   "display_name": "Python 3",
   "language": "python",
   "name": "python3"
  },
  "language_info": {
   "codemirror_mode": {
    "name": "ipython",
    "version": 3
   },
   "file_extension": ".py",
   "mimetype": "text/x-python",
   "name": "python",
   "nbconvert_exporter": "python",
   "pygments_lexer": "ipython3",
   "version": "3.8.3"
  },
  "toc": {
   "base_numbering": 1,
   "nav_menu": {},
   "number_sections": true,
   "sideBar": true,
   "skip_h1_title": false,
   "title_cell": "Table of Contents",
   "title_sidebar": "Contents",
   "toc_cell": false,
   "toc_position": {},
   "toc_section_display": true,
   "toc_window_display": false
  }
 },
 "nbformat": 4,
 "nbformat_minor": 5
}
